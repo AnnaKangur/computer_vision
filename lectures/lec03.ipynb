{
 "cells": [
  {
   "cell_type": "markdown",
   "id": "9ae8b9f8",
   "metadata": {},
   "source": [
    "# Лекция 3. Сверточные нейронные сети. Решение задачи классификации изображений"
   ]
  },
  {
   "cell_type": "markdown",
   "id": "dff663ce",
   "metadata": {},
   "source": [
    "* Линейная классификация и Логистическая регрессия\n",
    "* Cвязь цепного правила и графа производных\n",
    "* Базовые элементы в паплайне (**pipeline**) обучения нейронных сетей: функции активации, инициализация, **batch нормализация**, **dropout**, **регуляция**, градиентный спуск, стохастический градиентный спуск"
   ]
  },
  {
   "cell_type": "markdown",
   "id": "0ec99acb",
   "metadata": {},
   "source": [
    "**Сверточные нейронные сети**:\n",
    "1. Как применять нейросеть к изображениям\n",
    "2. Операция свёртки\n",
    "3. Простой свёрточный слой\n",
    "4. Усложняем сверточный слой \n",
    "5. Пулинг слой"
   ]
  },
  {
   "cell_type": "markdown",
   "id": "63783ad9",
   "metadata": {},
   "source": [
    "## 1. Как применять нейросеть к изображениям\n",
    "\n",
    "Применим уже знакомый нам многослойный перцептрон.\n",
    "\n",
    "При таком подходе могут возникнуть проблемы:\n",
    "1. Картинка может быть очень большого размера. Допустим, если картинка имеет размеры $300 x 300$ то нам нужно $90 000$  весов (а это очень много).\n",
    "\n",
    "Допустим, мы хотим определять, изображен ли на картинке котик.  \n",
    "\n",
    "Если бы у нас была выборка картинок только с котиками в правом нижнем углу, мы бы никогда не научились находить котиков на картинках, на которых они расположены в левом верхнем углу\n"
   ]
  },
  {
   "cell_type": "markdown",
   "id": "867ce356",
   "metadata": {},
   "source": [
    "## 2. Операция свёртки\n",
    "\n",
    "https://habr.com/ru/post/142818/\n",
    "\n",
    "Фильтры:\n",
    "\n",
    "$$\\begin{pmatrix}\n",
    "-1 & -1 & -1 \\\\\n",
    "-1 &  8 & -1 \\\\\n",
    "-1 & -1 & -1 \n",
    "\\end{pmatrix} \\text{- поиск краев} $$\n",
    "\n",
    "\n",
    "$$\\begin{pmatrix}\n",
    " 0 & -1 &  0 \\\\\n",
    "-1 &  5 & -1 \\\\\n",
    " 0 & -1 &  0 \n",
    "\\end{pmatrix} \\text{- повышение резкости} $$\n",
    "\n",
    "$$ \\frac{1}{9} \n",
    "\\begin{pmatrix}\n",
    " 1 &  1 &  1 \\\\\n",
    " 1 &  1 &  1 \\\\\n",
    " 1 &  1 &  1 \n",
    "\\end{pmatrix} \\text{- размытие} $$\n",
    "\n",
    "$$$$"
   ]
  },
  {
   "cell_type": "markdown",
   "id": "e3682003",
   "metadata": {},
   "source": [
    "$$\\frac{1}{15} \n",
    "\\begin{pmatrix}\n",
    " 1 &  2 &  1 \\\\\n",
    " 2 &  3 &  2 \\\\\n",
    " 1 &  2 &  1 \n",
    "\\end{pmatrix} \\text{-простейшее размытие} $$\n",
    "\n",
    "$$\\frac{1}{Sum} \\text{- Константное размытие \"box-фильтр\" (любой размер фильтра)} $$\n",
    "\n",
    "$$\\frac{1}{Sum} \\cdot e^{\\frac{k^2 + p^2}{-2\\sigma^2}} \\text{- Гауссово размытие (любой размер фильтра)} $$"
   ]
  },
  {
   "cell_type": "markdown",
   "id": "5f279e3c",
   "metadata": {},
   "source": [
    "$$\\frac{1}{10} \n",
    "\\begin{pmatrix}\n",
    " -1 &  -2 &  -1 \\\\\n",
    " -2 &  22 &  -2 \\\\\n",
    " -1 &  -2 &  -1 \n",
    "\\end{pmatrix} \\text{- повышение резкости} $$\n",
    "\n",
    "$$\\frac{1}{10} \n",
    "\\begin{pmatrix}\n",
    "  0 &  -1 &  0 \\\\\n",
    " -1 &   4 &  -1 \\\\\n",
    "  0 &  -1 &  0\n",
    "\\end{pmatrix} \\text{- нахождение границ (+ модуль, нормировка, применение порога…)} $$\n",
    "\n",
    "$$\\frac{1}{10} \n",
    "\\begin{pmatrix}\n",
    "  0 &   1 &  0 \\\\\n",
    "  1 &   0 & -1 \\\\\n",
    "  0 &  -1 &  0\n",
    "\\end{pmatrix} \\text{- тиснение (+ сдвиг яркости, нормировка…)} $$"
   ]
  },
  {
   "cell_type": "markdown",
   "id": "81b9c49d",
   "metadata": {},
   "source": [
    "Некоторые свойства свертки\n",
    "\n",
    "Пусть X и Y – изображения, H  – ядро свертки\n",
    "\n",
    "1. Линейность $(const \\cdot X) \\cdot H = const \\cdot (x \\cdot H)$\n",
    "\n",
    "2. Инвариантность к сдвигу $(X[i-i_0, j-j_0]) \\cdot H = (X \\cdot H) [i-i_0, j-j_0]$"
   ]
  },
  {
   "cell_type": "markdown",
   "id": "908225ba",
   "metadata": {},
   "source": [
    "* Box filer (простое размытие) – помимо подавления шума портит резкие границы и размывает мелкие детали изображения\n",
    "* Gaussian filter – меньше размывает мелкие детали, лучше убирает шум \n",
    "* Median filter – резких границ не портит, убирает мелкие детали, изображение становится менее естественным\n",
    "* Адаптивные фильтры – меньше портят детали, зависят от большего числа параметров. Иногда изображение становится менее естественным.\n",
    "* «Продвинутые» фильтры – лучшее сохранение деталей, меньше размытие. Часто сложны в реализации и очень медленные.\n"
   ]
  },
  {
   "cell_type": "markdown",
   "id": "0daafabf",
   "metadata": {},
   "source": [
    "\n",
    "Неформально эту операцию можно описать следующим образом — окном размера ядра $g$ проходим с заданным шагом (обычно $1$) все изображение $f$, на каждом шаге поэлементно умножаем содержимое окна на ядро $g$, результат суммируется и записывается в матрицу результата.\n",
    "\n",
    "При этом в зависимости от метода обработки краев исходной матрицы результат может быть меньше исходного изображения (**valid**), такого же размера (**same**) или большего размера (**full**).\n"
   ]
  },
  {
   "cell_type": "markdown",
   "id": "306afd0a",
   "metadata": {},
   "source": [
    "### Свертка в RGB\n",
    "\n",
    "$$r = \\sum img(r)_i \\cdot w(r)_i$$ \n",
    "$$g = \\sum img(g)_i \\cdot w(g)_i$$ \n",
    "$$b = \\sum img(b)_i \\cdot w(b)_i$$ \n",
    "$$ res = r + g + b + bias$$"
   ]
  },
  {
   "cell_type": "markdown",
   "id": "342ed342",
   "metadata": {},
   "source": [
    "## 3. Простой свёрточный слой\n",
    "\n",
    "Как реализовать простой свёрточный слой в нейросети?\n",
    "\n",
    "Для начала нужно разобраться, **как это поможет нам искать на картинках определенные объекты** (кошек, собак, уток).\n",
    "\n",
    "Рассмотрим пример. Пусть на картинке у нас расположена чёрточка под углом и нам нужно научится находить её на картинке. Тогда возьмём в качестве фильтра эту же чёрточку.\n",
    "\n",
    "Посмотрим, как будет работать свёртка с картинкой, на которой чёрточка повернута в другую сторону. \n",
    "<!-- \n",
    "$$\\begin{pmatrix}\n",
    " 0 & 0 &  0 & 0 \\\\\n",
    " 0 & 0 &  0 & 0 \\\\\n",
    " 0 & 0 &  1 & 0 \\\\\n",
    " 0 & 0 &  0 & 1 \\\\\n",
    "\\end{pmatrix} \n",
    "\\cdot \n",
    "\\begin{pmatrix}\n",
    " 1 & 0 \\\\\n",
    " 0 & 1 \\\\\n",
    "\\end{pmatrix}\n",
    "= \n",
    "\\begin{pmatrix}\n",
    " 0 & 0 & 0 \\\\\n",
    " 0 & 1 & 0 \\\\\n",
    " 0 & 0 & 2 \\\\\n",
    "\\end{pmatrix}\n",
    "\\text{max = 2} \n",
    "$$\n",
    "\n",
    "$$\\begin{pmatrix}\n",
    " 0 & 0 &  0 & 0 \\\\\n",
    " 0 & 0 &  0 & 0 \\\\\n",
    " 0 & 0 &  0 & 1 \\\\\n",
    " 0 & 0 &  1 & 0 \\\\\n",
    "\\end{pmatrix} \n",
    "\\cdot \n",
    "\\begin{pmatrix}\n",
    " 1 & 0 \\\\\n",
    " 0 & 1 \\\\\n",
    "\\end{pmatrix}\n",
    "= \n",
    "\\begin{pmatrix}\n",
    " 0 & 0 & 0 \\\\\n",
    " 0 & 0 & 1 \\\\\n",
    " 0 & 1 & 0 \\\\\n",
    "\\end{pmatrix}\n",
    "\\text{max = 2} \n",
    "$$ -->"
   ]
  },
  {
   "cell_type": "code",
   "execution_count": 40,
   "id": "755b3e92",
   "metadata": {},
   "outputs": [],
   "source": [
    "def convolution2d(image, kernel):\n",
    "    n, m = kernel.shape\n",
    "    h, w = image.shape\n",
    "    k = n + m\n",
    "    res = []\n",
    "    for i in range(h-n+1):\n",
    "        res.append([])\n",
    "        for j in range(w-m+1):\n",
    "            win = image[i:i+n, j:j+m]\n",
    "            res[i].append(sum(numpy.reshape(win,k) * numpy.reshape(kernel,k)))\n",
    "            # print(image[i:i+n, j:j+m])\n",
    "    return numpy.array(res)"
   ]
  },
  {
   "cell_type": "code",
   "execution_count": 41,
   "id": "5fd5559f",
   "metadata": {},
   "outputs": [
    {
     "data": {
      "text/plain": [
       "array([[0, 0, 0],\n",
       "       [0, 1, 0],\n",
       "       [0, 0, 2]])"
      ]
     },
     "execution_count": 41,
     "metadata": {},
     "output_type": "execute_result"
    }
   ],
   "source": [
    "img = numpy.array([[0,0,0,0],\n",
    "                   [0,0,0,0],\n",
    "                   [0,0,1,0],\n",
    "                   [0,0,0,1]])\n",
    "ker = numpy.array([[1,0],[0,1]])\n",
    "convolution2d(img, ker) "
   ]
  },
  {
   "cell_type": "code",
   "execution_count": 42,
   "id": "3b35081c",
   "metadata": {},
   "outputs": [
    {
     "data": {
      "text/plain": [
       "array([[0, 0, 0],\n",
       "       [0, 0, 1],\n",
       "       [0, 1, 0]])"
      ]
     },
     "execution_count": 42,
     "metadata": {},
     "output_type": "execute_result"
    }
   ],
   "source": [
    "img = numpy.array([[0,0,0,0],\n",
    "                   [0,0,0,0],\n",
    "                   [0,0,0,1],\n",
    "                   [0,0,1,0]])\n",
    "convolution2d(img, ker) "
   ]
  },
  {
   "cell_type": "markdown",
   "id": "93542d64",
   "metadata": {},
   "source": [
    "Это говорит нам о том, что на самом деле мы научились определять, что чёрточка на картинке повернута.\n",
    "\n",
    "Максимум функции будет определять поворот нашей чёрточки.\n",
    "\n",
    "Данный классификатор обладает некоторыми полезными свойствами. \n",
    "Например, **свёртка и сдвиг коммутивны (если эти операции поменять местами, то результат не изменится)**."
   ]
  },
  {
   "cell_type": "markdown",
   "id": "98787387",
   "metadata": {},
   "source": [
    "https://habr.com/ru/post/456186/"
   ]
  },
  {
   "cell_type": "code",
   "execution_count": 44,
   "id": "33774928",
   "metadata": {},
   "outputs": [
    {
     "data": {
      "text/plain": [
       "array([[2, 0, 0],\n",
       "       [0, 1, 0],\n",
       "       [0, 0, 0]])"
      ]
     },
     "execution_count": 44,
     "metadata": {},
     "output_type": "execute_result"
    }
   ],
   "source": [
    "img = numpy.array([[1,0,0,0],\n",
    "                   [0,1,0,0],\n",
    "                   [0,0,0,0],\n",
    "                   [0,0,0,0]])\n",
    "convolution2d(img, ker) "
   ]
  },
  {
   "cell_type": "code",
   "execution_count": 45,
   "id": "50d340df",
   "metadata": {},
   "outputs": [
    {
     "data": {
      "text/plain": [
       "array([[0, 1, 0],\n",
       "       [1, 0, 0],\n",
       "       [0, 0, 0]])"
      ]
     },
     "execution_count": 45,
     "metadata": {},
     "output_type": "execute_result"
    }
   ],
   "source": [
    "img = numpy.array([[0,1,0,0],\n",
    "                   [1,0,0,0],\n",
    "                   [0,0,0,0],\n",
    "                   [0,0,0,0]])\n",
    "convolution2d(img, ker) "
   ]
  },
  {
   "cell_type": "code",
   "execution_count": 52,
   "id": "476922b1",
   "metadata": {},
   "outputs": [
    {
     "data": {
      "text/plain": [
       "array([[0, 2, 0, 0, 0],\n",
       "       [0, 0, 2, 0, 0],\n",
       "       [0, 0, 0, 1, 0]])"
      ]
     },
     "execution_count": 52,
     "metadata": {},
     "output_type": "execute_result"
    }
   ],
   "source": [
    "img = numpy.array([[0,1,0,0,0,0],\n",
    "                   [0,0,1,0,0,0],\n",
    "                   [0,0,0,1,0,0],\n",
    "                   [0,0,0,0,0,0]])\n",
    "ker = numpy.array([[1,0],[0,1]])\n",
    "convolution2d(img, ker) "
   ]
  },
  {
   "cell_type": "code",
   "execution_count": 54,
   "id": "932fbc83",
   "metadata": {},
   "outputs": [
    {
     "data": {
      "text/plain": [
       "array([[1, 1, 0, 0, 0],\n",
       "       [1, 1, 0, 0, 1],\n",
       "       [0, 1, 0, 1, 0]])"
      ]
     },
     "execution_count": 54,
     "metadata": {},
     "output_type": "execute_result"
    }
   ],
   "source": [
    "img = numpy.array([[0,1,0,0,0,0],\n",
    "                   [0,1,0,0,0,0],\n",
    "                   [0,1,0,0,0,1],\n",
    "                   [0,0,0,0,1,0]])\n",
    "ker = numpy.array([[1,0],[0,1]])\n",
    "convolution2d(img, ker) "
   ]
  },
  {
   "cell_type": "markdown",
   "id": "41e49c8c",
   "metadata": {},
   "source": [
    "**Т.е. неважно где будет расположена черточка на картинке: в левом верхнем или в правом нижнем углу, мы всё равно будем знать, что это черточка.**"
   ]
  },
  {
   "cell_type": "markdown",
   "id": "8d9439e2",
   "metadata": {},
   "source": [
    "Как собрать свёрточный слой в нейросети?\n",
    "\n",
    "### 1. Padding \n",
    "\n",
    "На вход подается зелёная картинка 3 × 3 с некой **рамкой по бокам** (обычно она заполнена нулями), называемой **padding** или **добавкой**, необходимой для того, чтобы мы смогли поместить столько окошек, какого размера картинка, чтобы картинка осталась такого же размера за счёт этой добавки.\n",
    "\n",
    "У нас есть веса, которые нейросеть будет обучать с помощью градиентного спуска. \n",
    "\n",
    "$\\sigma(\\sum  img_i \\cdot ker_i)$ - первый нейрон\n",
    "\n",
    "### Stride\n",
    "\n",
    "Кроме того, у нас есть ещё один параметр —  шаг (сдвиг, stride), с которым двигается наше скользящее окно. Здесь шаг — 1 пиксель.\n",
    "\n",
    "### Feature map\n",
    "\n",
    "Продолжаем так дальше и на выходе получаем также картинку 3 × 3 — результат свёртки, называемую feature map (карта фичей).\n",
    "Заметим, что для этого преобразования мы использовали всего 10 параметров (9 весов и шаг).\n",
    "\n"
   ]
  },
  {
   "cell_type": "markdown",
   "id": "c6ee105f",
   "metadata": {},
   "source": [
    "### Как работает градиентный спуск для операции свёртки?\n",
    "\n",
    "На самом деле **свёрточный слой  —  частный случай полносвязного**.  \n",
    "Веса, находящиеся вне нашего поля обзора, просто занулены. И тогда  \n",
    "Имеем полносвязный слой, а для полносвязного слоя мы уже **умеем считать производную**.\n",
    "\n",
    "Как считать производную для свёрточного слоя?\n",
    "\n",
    "Возьмем картинку $3×3$ и фильтр $2×2$. \n",
    "На этой картинке есть всего $4$ возможных  положения фильтра. \n",
    "Последим за одним параметром $w_4$.  \n",
    "Нам интересно **взять производную функции потерь по этому параметру**.  \n",
    "Все  использования нашего параметра в сети назовем  различными буквами: $a, b, c, d$ и будем считать по ним производную.\n",
    "\n",
    "$$\\begin{pmatrix}\n",
    "\\cdot & \\cdot & \\cdot \\\\\n",
    "\\cdot & a_1 & a_2 \\\\\n",
    "\\cdot & a_3 & a_4\n",
    "\\end{pmatrix} \n",
    "\\rightarrow\n",
    "\\begin{pmatrix}\n",
    "w_{1} & w_{2} \\\\\n",
    "w_{3} & w_{4}\n",
    "\\end{pmatrix}\n",
    "\\rightarrow\n",
    "\\begin{pmatrix}\n",
    "a & b \\\\\n",
    "c & d\n",
    "\\end{pmatrix} \n",
    "$$\n",
    "\n",
    "$$ a = ... + a_1 \\cdot w_4 $$\n",
    "$$ b = ... + a_2 \\cdot w_4 $$\n",
    "$$ c = ... + a_3 \\cdot w_4 $$\n",
    "$$ d = ... + a_4 \\cdot w_4 $$\n",
    "\n",
    "Чтобы сделать шаг по градиенту,  необходимо будет посчитать производную потери по каждой из этих букв.  \n",
    "Сдвинем каждый параметр по направлению антиградиента,\n",
    "но если вспомнить что $a, b, c, d$ — это не разные параметры, а один и тот же, \n",
    "то становится понятно, как на самом деле работает градиентный спуск для свёртки:\n",
    "мы $4$ раза обновили один и тот же параметр и обновили его на сумму градиентов по всем использованиям на нашей картинке.\n",
    "\n"
   ]
  },
  {
   "cell_type": "markdown",
   "id": "2b92fcf6",
   "metadata": {},
   "source": [
    "## 4. Усложняем сверточный слой\n",
    "\n",
    "**Что будет на цветной картинке?**\n",
    "\n",
    "Картинку будем описывать тензором размера $W \\times H \\times Сin$, где $Сin$  — **количество входных каналов** (3 канала RGB). \n",
    "\n",
    "Для операции свёртки будем теперь «вырезать» не квадратик, как раньше, а  кубик, чтобы отличать, например, рыжих котов от чёрных. Сам фильтр тоже будет объемный. При этом, применив свёртку к картинке, получим плоскую картинку.\n",
    "\n",
    "Мы потеряли достаточно много информации, ведь на вход подавалась трехмерная картинка, а на выходе получилась двумерная.   Тут-то и становится понятно, что **одного фильтра мало**.\n",
    "\n",
    "**Как решить эту проблему?**\n",
    "\n",
    "Мы можем обучить много разных фильтров, все их применить, а результирующие картинки соединим в одну объёмную картинку на выходе.  Каждый разрез этой объемной выходной картинки будет хранить некую карту фичей, которую мы насчитаем. \n",
    "И теперь в одном пикселе входного изображения появляется вектор признаков. Этих признаков мы можем сделать сколько угодно. Это наш гиперпараметр **Сout  — количество выходных каналов в нашем объеме**. Очевидно, что **Сout > 1**,  а на практике может быть такое значение как **32 или 64**.\n",
    "\n",
    "Следующие фильтры, которые будут применяться, смогут учитывать все эти признаки  одновременно и научатся решать более сложную задачу."
   ]
  },
  {
   "cell_type": "markdown",
   "id": "faf103b1",
   "metadata": {},
   "source": [
    "Допустим, на картинке $300 × 300$ изображен кот, а наш первый свеёрточный слой посмотрел на кусочки изображения 3 × 3. Эти кусочки слишком маленькие. Мы не можем из них собрать кота. \n",
    "\n",
    "Давайте посмотрим. что произойдет с нашей картинкой и преобразованиями в нейросети, когда мы к первому результату нашей свёртки применим ещё один свёрточный слой. \n",
    "\n",
    "Если провести пунктирные линии, то видно, что у нейрона применного к свертке **«повысилось поле обзора»** и он  смотрит на больший кусочек изображения. То есть, **создавая больше слоёв, мы имеем возможность определить котика всё большего и большего размера**.\n",
    "\n",
    "Что делать, если у нас котик занимает весь размер картинки (300 × 300)?\n",
    "\n",
    "Посчитаем, сколько нам потребуется слоев, чтобы распознать такого котика.\n",
    "Рассмотрим это на простом одномерном примере. Допустим, у нас на входе \n",
    "одномерный вектор из 9 нейронов. Посмотрим, как будет выглядеть результат первой свёртки размером 3 × 1. \n",
    "\n",
    "Видно, что наше поле обзора прирастает линейно по количеству слоёв. Значит, чтобы посмотреть на котика размером 300 × 300, нам понадобится **150 слоев, а это очень много**. Возникает  проблема, потому что столько слоёв будут очень долго просчитываться. \n",
    "\n",
    "**Решение: скользящее окно сделать с шагом 2 (stride), тогда для картинки 300 x 300 понадобиться всего 9 сверточных слоев для всей картинки**"
   ]
  },
  {
   "cell_type": "markdown",
   "id": "d9ed75e0",
   "metadata": {},
   "source": [
    "## 5. Pooling слой\n",
    "\n",
    "На входе есть картинка (4 × 4) и есть окно фиксированного размера (2 × 2). Если мы проходим этим окном по картинке с шагом 2, то у окна есть всего 4 возможных положения. Теперь пулинг слой применяет некоторую операцию (**мы возьмем максимум**). \n",
    "<!-- В оранжевом окошке максимум 6 и поэтому на выходе получаем 6, в фиолетовом 8 и т.д. -->\n",
    "\n",
    "### Градиент для пулинга \n",
    "\n",
    "Возникает ещё один важный вопрос: как считать градиент для пулинга, если **операция максимума не дифференцируема**?\n",
    "Очевидно, что результат **max-pooling** не изменится, если мы **немного подвинем входные данные, не являющиеся максимальным**. Т.е. **при варьировании этих не максимальных элементов, результат max-pooling не меняется, а значит, производная по этим элементам равна 0**.\n",
    "\n",
    "При изменении максимального элемента максимум сразу меняется и **производная по этому элементу равна 1**.\n",
    "Т.о. мы можем посчитать градиент пулинга.\n",
    "\n",
    "Пулинг слой комбинирует в себе два плюса:\n",
    "1. Oн применяет максимум, а значит, имеет небольшую инвариантность к сдвигу\n",
    "2. Пулинг слой обычно применяют с шагом 2, а это значит, что наша картинка уменьшается в 2 раза и поле обзора растет быстрее.\n",
    "\n",
    "\n",
    "* Пулинг с максимумом применяется к различным feature map независимо от объёма, который мы получили: он работает на входе и на выходе с плоскими  картинками и не меняет количество фильтров.\n",
    "* Пулинг с максимумом теряет детали изображения\n",
    "* Пулинг применяется с бОльшим stride и обеспечивает более быстрое увеличение поля обзора (экспоненциальный рост против линейного). \n",
    "* Взятие максимума вместо обучаемой свёртки экономит вычисления и добавляет небольшую инвариантность к сдвигу."
   ]
  },
  {
   "cell_type": "markdown",
   "id": "503f79e9",
   "metadata": {},
   "source": [
    "# Примеры сверточных нейронных сетей:\n",
    "\n",
    "1. Простые сверточные сети\n",
    "2. Более современные архитектуры\n",
    "3. Inception V3\n"
   ]
  },
  {
   "cell_type": "markdown",
   "id": "1ac83051",
   "metadata": {},
   "source": [
    "## 1. Простые сверточные сети"
   ]
  },
  {
   "cell_type": "markdown",
   "id": "75a72e28",
   "metadata": {},
   "source": [
    "**Архитектура LeNet для задачи MNIST (1998)**\n",
    "\n",
    "На вход принималась чёрно-белая картинка размера 32 × 32 × 1. \n",
    "\n",
    "Полученный после нескольких сверток объём предлагается вытянуть в вектор и к этому вектору применить 2 полносвязных слоя, т.е. предполагается, что в этом последнем пулинг слое в 16 признаках уже закодирована нужная информация, которая  поможет нам воссоздать цифру.  \n",
    "\n",
    "После применения двух полносвязных слоёв нужен выходной слой, на котором будет 10 выходов, \n",
    "т.к. у нас 10 цифр, и будет применена функция **softmax**, которая **превратит любые выходы в правильное распределение вероятностей**. \n",
    "\n",
    "Если взять 60 000 примеров, где у нас есть картинка на входе и для неё известен класс, собрать эту архитектуру и оставить backpropagation  на пару минут, то он выучит все веса на всех слоях, которые решают эту задачу практически идеально."
   ]
  },
  {
   "cell_type": "markdown",
   "id": "20420e43",
   "metadata": {},
   "source": [
    "### Функция потерь\n",
    "\n",
    "**Как работает функция softmax?**\n",
    "\n",
    "Допустим, мы **посчитали 10 выходов**. Каждый из них **заменим на экспоненту в степени этого выхода** и **пронормируем** все полученные экспоненты, чтобы в сумме они давали 1. \n",
    "Т.к. экспонента неотрицательна, а их сумма равна 1, то **получим правильное распределение вероятностей**.\n",
    "\n",
    "$$ \\sigma = \\frac{e^{z_i}}{\\sum e^{z_k} } $$\n",
    "\n",
    "$$ -\\sum log(p_k) [ y = k ] $$\n",
    " \n",
    "**Кросс-энтропия**\n",
    "\n",
    "Чтобы запустить backpropagation, нужно знать какую функцию потерь использовать. \n",
    "Для **классификации на K классов** обычно используют функцию потерь, которую называют \n",
    "**кросс-энтропия (cross-entropy)**. \n",
    "\n",
    "Для каждого примера мы идем по всем возможным классам и, если\n",
    " пример **принадлежит** этому классу, то мы **в потери записываем логарифм со знаком «минус»\n",
    " от предсказанной вероятности** этого класса.\n",
    "\n",
    "По графику функции **-ln(х)** видно, что **если аргумент этой функции близок к 1, то потери близки к 0, а если аргумент близок к 0, то потери уходят в бесконечность**. Это означает, что **в потерях на правильном классе хочется видеть вероятность как можно более близкую к 1**. Это и будет решать нашу задачу  классификации.\n"
   ]
  },
  {
   "cell_type": "markdown",
   "id": "a3774dd1",
   "metadata": {},
   "source": [
    "**Что на промежуточных слоях сети**\n",
    "\n",
    "Если обучить нашу нейросеть и посмотреть на каждом слое изображения, на какие кусочки реагируют (имеют большую активацию) наши нейроны, то заметим:\n",
    "* на первом слое нейроны реагируют на простые паттерны на изображении (например, они могут находить перепады яркости под разными углами). \n",
    "* Второй свёрточный слой уже может распознавать что-то более сложное (например, кусочек глаза) и т.д. Таким образом **нейросеть учит иерархические шаблоны**."
   ]
  },
  {
   "cell_type": "markdown",
   "id": "29c753d5",
   "metadata": {},
   "source": [
    "## 2. Более современные архитектуры\n",
    "\n",
    "Вспомним про задачу ImageNet. Люди за много лет насобирали более миллиона изображений, которые размечены на 1000 классов.  \n",
    "Классы довольно сложные (например, разные породы собак и кошек). \n",
    "В 2012 году решению этой задачи обучили огромную нейросеть **AlexNet**. Ошибку с 26% сократили до 15%, что было прорывом. \n",
    "\n",
    "Устроена она была так: у нас есть несколько свёрточных слоев с **макс-пулингом** между ними и мы используем **свертки** 11 × 11, 5 × 5, 3 × 3.\n",
    "Дополнительно использовался **dropout**, **аугментация данных** и **ReLu**. В этой сети было 60 миллионов параметров и это была беспрецедентная сеть на тот момент.\n",
    "\n",
    "Другой пример архитектуры — **VGG**, предложенная в 2015 году. Спустя 3 года после AlexNet. Видеокарты к тому времени стали мощнее и  новая сеть содержала 138 миллионов параметров. Здесь уже не использовали **дорогие и тяжелые свёртки** размера 11 × 11, а обошлись большим числом сверток размером 3 × 3. В остальном по принципу нейросеть очень похожа на AlexNet.\n",
    "\n",
    "Структура **VGG-16**."
   ]
  },
  {
   "cell_type": "markdown",
   "id": "36085360",
   "metadata": {},
   "source": [
    "## Inception V3 (2015)\n",
    "\n",
    "4.2% top5 classification error на Imagenet\n",
    "\n",
    "В этой сети значительно меньше параметров (всего 25 миллионов). \n",
    "Cостоит из оригинальных **inception-блоков** (их рассмотрим чуть позже) и дополнительных трюков таких как **батч нормализация**, **аугментация** и **RMSProp** (алгоритм оптимизации). \n",
    "\n",
    "Т.е. мы будем **искать новые пиксели как линейные комбинации входных**. Такое линейное преобразование очень похоже на уменьшение размерности (PCA). Объясняя простым языком, **мы даем нейросети возможность обучать много фильтров, а затем похожие фильтры схлопываются в один линейным \n",
    "преобразованием**.\n",
    "\n",
    "Как устроен inception-блок внутри?\n",
    "\n",
    "На входе нам поступает некоторый объём и к нему применяют 4 ветки вычисления: \n",
    "1. первая ветка применяет свёртку 1 × 1, чтобы уменьшить глубину этого объёма; дальше применяется свёртка 5 × 5 с таким padding, чтобы на выходе **высота и ширина** изображения остались **неизменными**; \n",
    "2. на второй ветке применяем свеёртку 1 × 1, а затем 3 × 3; \n",
    "3. на третьей ветке применяем пулинг с шагом 1, а затем свёртку 1 × 1; \n",
    "4. четвертая ветка просто делает свёртку 1 × 1.\n",
    "Отметим, что можно так подобрать padding и stride, что измерения W и H выходных объёмов всех веток будут одинаковыми, а глубина будет различаться. Это означает, что их можно будет **склеить по глубине**. В итоге получим один большой объём.\n",
    "\n",
    "Можно заменить свёртки 5 × 5 двумя свёртками 3 × 3. \n",
    "Количество параметров, необходимых для такой операции, станет меньше.\n",
    "\n",
    "**Сепарабельные фильтры**\n",
    "\n",
    "Существует **фильтр размытия по Гауссу** — гауссиана, т.е. мы возьмем кусочек изображения, взвесим все пиксели с весами, которые даёт нам гауссиана и получим размытие по гауссу. \n",
    "  \n",
    "Это размытие можно «дёшево» сделать одномерными свёртками. \n",
    "Например, пусть у нас есть синий пиксель. Сначала сделаем размытие одномерным гауссовским ядром по горизонтали:"
   ]
  },
  {
   "cell_type": "code",
   "execution_count": 2,
   "id": "77639abd",
   "metadata": {},
   "outputs": [],
   "source": [
    "import numpy as np\n",
    "import cv2\n",
    "import matplotlib.pyplot as plt"
   ]
  },
  {
   "cell_type": "code",
   "execution_count": 3,
   "id": "a378c171",
   "metadata": {},
   "outputs": [
    {
     "data": {
      "text/plain": [
       "<matplotlib.image.AxesImage at 0x133b1345550>"
      ]
     },
     "execution_count": 3,
     "metadata": {},
     "output_type": "execute_result"
    },
    {
     "data": {
      "image/png": "[encoded data removed]",
      "text/plain": [
       "<Figure size 432x288 with 1 Axes>"
      ]
     },
     "metadata": {
      "needs_background": "light"
     },
     "output_type": "display_data"
    }
   ],
   "source": [
    "img = cv2.imread('162201.png ') \n",
    "plt.imshow(img)"
   ]
  },
  {
   "cell_type": "markdown",
   "id": "1cc83862",
   "metadata": {},
   "source": [
    "К этому результату можно применить свёртку по вертикали и мы получим такой же результат, как если бы мы применяли двумерную свёртку к нашему пикселю. Если посчитать количество операций при размытии по горизонтали, а затем по вертикали, то **количество операций окажется в разы меньше**.\n",
    "Такие **фильтры, которые позволяют заменить себя на последовательность \n",
    "одномерных, называются сепарабельными**.\n",
    "\n",
    "Дадим нейросети возможность учить такие фильтры, заменим в нашем \n",
    "**inception-блоке** свёртки 3 × 3 на сепарабельные свёртки 1 × 3 и 3 × 1.\n",
    "\n",
    "Таким образом, мы придумали очень эффективный inception-блок, \n",
    "который использует мало параметров и дает лучшее качество, чем набор \n",
    "свёрток 3 × 3."
   ]
  },
  {
   "cell_type": "markdown",
   "id": "78a345ab",
   "metadata": {},
   "source": [
    "* padding – добавление рамки для скользящего окна \n",
    "* stride – сдвиг в рамках скользящего окна\n",
    "* feature map  – карта фичей\n",
    "* max pooling – фильтр выбирает максимум из пикселей, покрытых фильтром\n",
    "* average polling – фильтр выбирает среднее из пикселей, покрытых фильтром\n",
    "* kernel – ядро свертки\n",
    "* Сепарабельные фильтры – фильтры одномерной размерности применяемые последовательно по горизонтали и вертикале  "
   ]
  },
  {
   "cell_type": "code",
   "execution_count": 1,
   "id": "708f0469",
   "metadata": {},
   "outputs": [],
   "source": [
    "from __future__ import print_function"
   ]
  },
  {
   "cell_type": "code",
   "execution_count": 2,
   "id": "489f8458",
   "metadata": {},
   "outputs": [],
   "source": [
    "import argparse # для работы с аргументами командной строки"
   ]
  },
  {
   "cell_type": "markdown",
   "id": "fe025d71",
   "metadata": {},
   "source": [
    "https://habr.com/ru/company/ruvds/blog/440654/"
   ]
  },
  {
   "cell_type": "code",
   "execution_count": 3,
   "id": "9d1aba5d",
   "metadata": {},
   "outputs": [],
   "source": [
    "import torch\n",
    "import torch.nn as nn\n",
    "import torch.nn.functional as F\n",
    "import torch.optim as optim\n",
    "from torchvision import datasets, transforms\n",
    "from torch.optim.lr_scheduler import StepLR"
   ]
  },
  {
   "cell_type": "markdown",
   "id": "8a89cf67",
   "metadata": {},
   "source": [
    "https://habr.com/ru/post/334380/"
   ]
  },
  {
   "cell_type": "code",
   "execution_count": 15,
   "id": "96e315a1",
   "metadata": {},
   "outputs": [],
   "source": [
    "import numpy as np\n",
    "import matplotlib.pyplot as plt\n",
    "\n",
    "# Python Imaging Library — библиотека языка Python, предназначенная для работы с растровой графикой.\n",
    "import PIL"
   ]
  },
  {
   "cell_type": "markdown",
   "id": "bf3cf4e0",
   "metadata": {},
   "source": [
    "# 1. Данные"
   ]
  },
  {
   "cell_type": "code",
   "execution_count": 5,
   "id": "92d6957e",
   "metadata": {},
   "outputs": [],
   "source": [
    "transform = transforms.Compose([\n",
    "    transforms.ToTensor(),\n",
    "    transforms.Normalize((0.1307,), (0.3081,))\n",
    "    ])"
   ]
  },
  {
   "cell_type": "code",
   "execution_count": 42,
   "id": "680d8093",
   "metadata": {},
   "outputs": [],
   "source": [
    "dataset1 = datasets.MNIST('../data', train=True, download=True,\n",
    "                   transform=transform)\n",
    "dataset2 = datasets.MNIST('../data', train=False,\n",
    "                   transform=transform)"
   ]
  },
  {
   "cell_type": "code",
   "execution_count": 45,
   "id": "37421551",
   "metadata": {
    "scrolled": false
   },
   "outputs": [
    {
     "data": {
      "text/plain": [
       "<matplotlib.image.AxesImage at 0x1dd0669e0a0>"
      ]
     },
     "execution_count": 45,
     "metadata": {},
     "output_type": "execute_result"
    },
    {
     "data": {
      "image/png": "[encoded data removed]",
      "text/plain": [
       "<Figure size 432x288 with 1 Axes>"
      ]
     },
     "metadata": {
      "needs_background": "light"
     },
     "output_type": "display_data"
    }
   ],
   "source": [
    "img = dataset1[0][0][0]\n",
    "plt.imshow(img, cmap=\"gray\")"
   ]
  },
  {
   "cell_type": "code",
   "execution_count": null,
   "id": "5aed64b9",
   "metadata": {},
   "outputs": [],
   "source": []
  },
  {
   "cell_type": "code",
   "execution_count": 46,
   "id": "ab04665c",
   "metadata": {},
   "outputs": [
    {
     "name": "stdout",
     "output_type": "stream",
     "text": [
      "Marks(Physics=90, Chemistry=85, Math=95, English=100)\n"
     ]
    }
   ],
   "source": [
    "# Создание именованного кортежа\n",
    "\n",
    "from collections import namedtuple\n",
    "\n",
    "Marks = namedtuple('Marks', 'Physics Chemistry Math English')\n",
    "marks = Marks(90, 85, 95, 100)\n",
    "print(marks)"
   ]
  },
  {
   "cell_type": "code",
   "execution_count": 105,
   "id": "ffcf6088",
   "metadata": {},
   "outputs": [
    {
     "name": "stdout",
     "output_type": "stream",
     "text": [
      "args_namedtuple(batch_size=64, test_batch_size=1000, epochs=3, lr=1.0, gamma=0.7, no_cuda=False, dry_run=False, seed=1, log_interval=10, save_model=False)\n"
     ]
    },
    {
     "data": {
      "text/plain": [
       "False"
      ]
     },
     "execution_count": 105,
     "metadata": {},
     "output_type": "execute_result"
    }
   ],
   "source": [
    "args_namedtuple = namedtuple('args_namedtuple',['batch_size', 'test_batch_size',\n",
    "                                               'epochs', 'lr', 'gamma','no_cuda',\n",
    "                                   'dry_run', 'seed', 'log_interval', 'save_model'])\n",
    "\n",
    "args = args_namedtuple(batch_size = 64, \n",
    "                       test_batch_size = 1000, \n",
    "                       epochs = 3, # 14, \n",
    "                       lr = 1.0,\n",
    "                       gamma = 0.7,\n",
    "                       no_cuda = False,\n",
    "                       dry_run = False,\n",
    "                       seed = 1,\n",
    "                       log_interval = 10,\n",
    "                       save_model = False)\n",
    "print(args)\n",
    "\n",
    "# torch.cuda.is_available() - возвращает логическое значение, указывающее, \n",
    "# доступна ли в данный момент CUDA\n",
    "\n",
    "use_cuda = not args.no_cuda and torch.cuda.is_available()\n",
    "use_cuda"
   ]
  },
  {
   "cell_type": "code",
   "execution_count": 61,
   "id": "288b53e6",
   "metadata": {
    "scrolled": true
   },
   "outputs": [
    {
     "data": {
      "text/plain": [
       "'/device:GPU:0'"
      ]
     },
     "execution_count": 61,
     "metadata": {},
     "output_type": "execute_result"
    }
   ],
   "source": [
    "import tensorflow as tf\n",
    "tf.test.gpu_device_name()"
   ]
  },
  {
   "cell_type": "code",
   "execution_count": 60,
   "id": "e2f71353",
   "metadata": {},
   "outputs": [
    {
     "data": {
      "text/plain": [
       "False"
      ]
     },
     "execution_count": 60,
     "metadata": {},
     "output_type": "execute_result"
    }
   ],
   "source": [
    "import torch\n",
    "torch.cuda.is_available()"
   ]
  },
  {
   "cell_type": "code",
   "execution_count": 62,
   "id": "c46bab51",
   "metadata": {},
   "outputs": [],
   "source": [
    "# Устанавливает начальное число для генерации случайных чисел. Возвращает объект torch.Generator.\n",
    "torch.manual_seed(args.seed)\n",
    "\n",
    "device = torch.device(\"cuda\" if use_cuda else \"cpu\")\n",
    "\n",
    "train_kwargs = {'batch_size': args.batch_size}\n",
    "test_kwargs = {'batch_size': args.test_batch_size}"
   ]
  },
  {
   "cell_type": "code",
   "execution_count": 66,
   "id": "a94b4be1",
   "metadata": {},
   "outputs": [],
   "source": [
    "if use_cuda:\n",
    "    cuda_kwargs = {'num_workers': 1,\n",
    "                   'pin_memory': True,\n",
    "                   'shuffle': True}\n",
    "    train_kwargs.update(cuda_kwargs)\n",
    "    test_kwargs.update(cuda_kwargs)"
   ]
  },
  {
   "cell_type": "code",
   "execution_count": 67,
   "id": "96151922",
   "metadata": {},
   "outputs": [],
   "source": [
    "# для параллелизма процесса загрузки данных при поддержке автоматической партии\n",
    "train_loader = torch.utils.data.DataLoader(dataset1,**train_kwargs) # произвольное число именованных аргументов\n",
    "test_loader = torch.utils.data.DataLoader(dataset2, **test_kwargs)"
   ]
  },
  {
   "cell_type": "code",
   "execution_count": 68,
   "id": "d3f06aa7",
   "metadata": {},
   "outputs": [
    {
     "data": {
      "text/plain": [
       "<torch.utils.data.dataloader.DataLoader at 0x1dd15742fa0>"
      ]
     },
     "execution_count": 68,
     "metadata": {},
     "output_type": "execute_result"
    }
   ],
   "source": [
    "train_loader"
   ]
  },
  {
   "cell_type": "code",
   "execution_count": 69,
   "id": "b3d69572",
   "metadata": {},
   "outputs": [
    {
     "data": {
      "text/plain": [
       "Dataset MNIST\n",
       "    Number of datapoints: 60000\n",
       "    Root location: ../data\n",
       "    Split: Train\n",
       "    StandardTransform\n",
       "Transform: Compose(\n",
       "               ToTensor()\n",
       "               Normalize(mean=(0.1307,), std=(0.3081,))\n",
       "           )"
      ]
     },
     "execution_count": 69,
     "metadata": {},
     "output_type": "execute_result"
    }
   ],
   "source": [
    "train_loader.dataset"
   ]
  },
  {
   "cell_type": "code",
   "execution_count": 72,
   "id": "c12005af",
   "metadata": {},
   "outputs": [],
   "source": [
    "# train_loader.dataset.data"
   ]
  },
  {
   "cell_type": "code",
   "execution_count": 76,
   "id": "15ae72c2",
   "metadata": {},
   "outputs": [
    {
     "name": "stdout",
     "output_type": "stream",
     "text": [
      "torch.Size([1, 28, 28])\n"
     ]
    },
    {
     "data": {
      "text/plain": [
       "<matplotlib.image.AxesImage at 0x1dd04751910>"
      ]
     },
     "execution_count": 76,
     "metadata": {},
     "output_type": "execute_result"
    },
    {
     "data": {
      "image/png": "[encoded data removed]",
      "text/plain": [
       "<Figure size 432x288 with 1 Axes>"
      ]
     },
     "metadata": {
      "needs_background": "light"
     },
     "output_type": "display_data"
    }
   ],
   "source": [
    "img = np.array(train_loader.dataset.data[0])\n",
    "print(transform(PIL.Image.fromarray(img)).shape)\n",
    "plt.imshow(img)"
   ]
  },
  {
   "cell_type": "markdown",
   "id": "69d919c0",
   "metadata": {},
   "source": [
    "# 2. Модель"
   ]
  },
  {
   "cell_type": "markdown",
   "id": "79f06f85",
   "metadata": {},
   "source": [
    "class **torch.nn.Module** базовый класс для всех модулей нейронных сетей:\n",
    "1. nn.Parameter\n",
    "2. nn.Module\n",
    "3. nn.functional\n",
    "4. nn.init"
   ]
  },
  {
   "cell_type": "code",
   "execution_count": 83,
   "id": "0d81fff3",
   "metadata": {},
   "outputs": [
    {
     "data": {
      "text/plain": [
       "torch.Size([1, 33, 10, 20])"
      ]
     },
     "execution_count": 83,
     "metadata": {},
     "output_type": "execute_result"
    }
   ],
   "source": [
    "# input and output (N, C, H, W)\n",
    "# N - batch size\n",
    "# C - number of channels \n",
    "# H, W- height and width of input planes in pixels\n",
    "m = nn.Conv2d(16, 33, 3, 5)\n",
    "#               stride=(2, 1), \n",
    "#               padding=(4, 2), \n",
    "#               dilation=(3, 1))\n",
    "inp = torch.randn(1, 16, 50, 100)\n",
    "# inp.shape\n",
    "out = m(inp)\n",
    "out.shape"
   ]
  },
  {
   "cell_type": "code",
   "execution_count": 81,
   "id": "553d623b",
   "metadata": {},
   "outputs": [],
   "source": [
    "# plt.imshow(inp[0].shape)"
   ]
  },
  {
   "cell_type": "code",
   "execution_count": 82,
   "id": "4cc9deaa",
   "metadata": {},
   "outputs": [],
   "source": [
    "class Net(nn.Module):\n",
    "    \n",
    "    def __init__(self):\n",
    "        super(Net, self).__init__()\n",
    "        self.conv1 = nn.Conv2d(1, 32, 3, 1)\n",
    "        self.conv2 = nn.Conv2d(32, 64, 3, 1)\n",
    "        self.dropout1 = nn.Dropout(0.25) # прореживание \n",
    "        self.dropout2 = nn.Dropout(0.5)\n",
    "        self.fc1 = nn.Linear(9216, 128) # линейное преобразование к входящим данным: y=xA^T+b\n",
    "        self.fc2 = nn.Linear(128, 10)\n",
    "\n",
    "#        Класс Net используется для построения модели. \n",
    "#        Метод __init__ используется для определения слоев. \n",
    "#        После создания определений слоев следующим шагом является определение того, \n",
    "#        как данные проходят через эти слои при выполнении прямого прохода по сети:\n",
    "        \n",
    "    def forward(self, x):\n",
    "        x = self.conv1(x)\n",
    "        x = F.relu(x)\n",
    "        x = self.conv2(x)\n",
    "        x = F.relu(x)\n",
    "        x = F.max_pool2d(x, 2) # Максимальное 2D-объединение к входному сигналу, состоящему из нескольких входных плоскостей\n",
    "        x = self.dropout1(x) \n",
    "        x = torch.flatten(x, 1) # Выравнивает ввод. Не влияет на размер партии.\n",
    "        x = self.fc1(x)\n",
    "        x = F.relu(x)\n",
    "        x = self.dropout2(x)\n",
    "        x = self.fc2(x)\n",
    "        output = F.log_softmax(x, dim=1) # Применяет softmax, за которым следует логарифм.\n",
    "        return output\n",
    "    \n",
    "#     Первый слой или входной слой модели — conv1, а выходной слой — fc2. \n",
    "#     Эта функция определяет, как данные проходят через сеть — данные из входного \n",
    "#     слоя conv1 активируются функцией активации ReLU (F.relu()), \n",
    "#     затем они передаются на уровень пула, определенный как пул. \n",
    "#     Вывод первого уровня сохраняется в переменной x, которая затем\n",
    "#     отправляется на следующий уровень. \n",
    "#     Перед отправкой в классификатор выходные данные последнего свернутого \n",
    "#     слоя выравниваются для линейных слоев...\n",
    "#     ..."
   ]
  },
  {
   "cell_type": "markdown",
   "id": "6f41725b",
   "metadata": {},
   "source": [
    "https://russianblogs.com/article/738622222/"
   ]
  },
  {
   "cell_type": "code",
   "execution_count": 84,
   "id": "f69e462a",
   "metadata": {},
   "outputs": [],
   "source": [
    "def train(args, model, device, train_loader, optimizer, epoch):\n",
    "    # When using PyTorch for training and testing, be sure to specify the train/eval for the instantiated model.\n",
    "    # При использовании PyTorch для обучения и тестирования обязательно укажите train/eval для созданной модели.\n",
    "    model.train()\n",
    "    for batch_idx, (data, target) in enumerate(train_loader):\n",
    "        data, target = data.to(device), target.to(device)\n",
    "        optimizer.zero_grad()\n",
    "        output = model(data)\n",
    "        loss = F.nll_loss(output, target)\n",
    "        loss.backward()\n",
    "        optimizer.step()\n",
    "        if batch_idx % args.log_interval == 0:\n",
    "            print('Train Epoch: {} [{}/{} ({:.0f}%)]\\tLoss: {:.6f}'.format(\n",
    "                epoch, batch_idx * len(data), len(train_loader.dataset),\n",
    "                100. * batch_idx / len(train_loader), loss.item()))\n",
    "            if args.dry_run:\n",
    "                break"
   ]
  },
  {
   "cell_type": "code",
   "execution_count": 85,
   "id": "5aa7d808",
   "metadata": {},
   "outputs": [],
   "source": [
    "def test(model, device, test_loader):\n",
    "    model.eval()\n",
    "    test_loss = 0\n",
    "    correct = 0\n",
    "    with torch.no_grad():\n",
    "        for data, target in test_loader:\n",
    "            data, target = data.to(device), target.to(device)\n",
    "            output = model(data)\n",
    "            test_loss += F.nll_loss(output, target, reduction='sum').item()  # sum up batch loss\n",
    "            pred = output.argmax(dim=1, keepdim=True)  # get the index of the max log-probability\n",
    "            correct += pred.eq(target.view_as(pred)).sum().item()\n",
    "\n",
    "    test_loss /= len(test_loader.dataset)\n",
    "\n",
    "    print('\\nTest set: Average loss: {:.4f}, Accuracy: {}/{} ({:.0f}%)\\n'.format(\n",
    "        test_loss, correct, len(test_loader.dataset),\n",
    "        100. * correct / len(test_loader.dataset)))"
   ]
  },
  {
   "cell_type": "markdown",
   "id": "8cc00156",
   "metadata": {},
   "source": [
    "**Превращаем ArgumentParser в формат namedtuple для работы не из консоли, а в тетрадке**\n",
    "\n",
    "Правила:\n",
    "   batch-size  переходят в batch_size\n",
    "   default  переходят в значения"
   ]
  },
  {
   "cell_type": "markdown",
   "id": "42c32c1f",
   "metadata": {},
   "source": [
    "<!-- def main():\n",
    "    parser = argparse.ArgumentParser(description='PyTorch MNIST Example')\n",
    "    parser.add_argument('--batch-size', type=int, default=64, metavar='N',\n",
    "                        help='input batch size for training (default: 64)')\n",
    "    parser.add_argument('--test-batch-size', type=int, default=1000, metavar='N',\n",
    "                        help='input batch size for testing (default: 1000)')\n",
    "    parser.add_argument('--epochs', type=int, default=14, metavar='N',\n",
    "                        help='number of epochs to train (default: 14)')\n",
    "    parser.add_argument('--lr', type=float, default=1.0, metavar='LR',\n",
    "                        help='learning rate (default: 1.0)')\n",
    "    parser.add_argument('--gamma', type=float, default=0.7, metavar='M',\n",
    "                        help='Learning rate step gamma (default: 0.7)')\n",
    "    parser.add_argument('--no-cuda', action='store_true', default=False,\n",
    "                        help='disables CUDA training')\n",
    "    parser.add_argument('--dry-run', action='store_true', default=False,\n",
    "                        help='quickly check a single pass')\n",
    "    parser.add_argument('--seed', type=int, default=1, metavar='S',\n",
    "                        help='random seed (default: 1)')\n",
    "    parser.add_argument('--log-interval', type=int, default=10, metavar='N',\n",
    "                        help='how many batches to wait before logging training status')\n",
    "    parser.add_argument('--save-model', action='store_true', default=False,\n",
    "                        help='For Saving the current Model')\n",
    "    args = parser.parse_args() -->"
   ]
  },
  {
   "cell_type": "markdown",
   "id": "adf91671",
   "metadata": {},
   "source": [
    "# 3.Обучение"
   ]
  },
  {
   "cell_type": "code",
   "execution_count": 86,
   "id": "ed6a2c98",
   "metadata": {},
   "outputs": [
    {
     "data": {
      "text/plain": [
       "device(type='cpu')"
      ]
     },
     "execution_count": 86,
     "metadata": {},
     "output_type": "execute_result"
    }
   ],
   "source": [
    "device"
   ]
  },
  {
   "cell_type": "code",
   "execution_count": 87,
   "id": "752a497f",
   "metadata": {
    "scrolled": true
   },
   "outputs": [
    {
     "data": {
      "text/plain": [
       "torch.Size([1, 28, 28])"
      ]
     },
     "execution_count": 87,
     "metadata": {},
     "output_type": "execute_result"
    }
   ],
   "source": [
    "train_loader.dataset[0][0].shape"
   ]
  },
  {
   "cell_type": "code",
   "execution_count": 88,
   "id": "be01a1c2",
   "metadata": {},
   "outputs": [
    {
     "data": {
      "text/plain": [
       "5"
      ]
     },
     "execution_count": 88,
     "metadata": {},
     "output_type": "execute_result"
    }
   ],
   "source": [
    "train_loader.dataset[0][1]"
   ]
  },
  {
   "cell_type": "code",
   "execution_count": 89,
   "id": "6e106270",
   "metadata": {},
   "outputs": [],
   "source": [
    "model = Net().to(device)"
   ]
  },
  {
   "cell_type": "code",
   "execution_count": 90,
   "id": "6cd6c87c",
   "metadata": {},
   "outputs": [
    {
     "data": {
      "text/plain": [
       "Net(\n",
       "  (conv1): Conv2d(1, 32, kernel_size=(3, 3), stride=(1, 1))\n",
       "  (conv2): Conv2d(32, 64, kernel_size=(3, 3), stride=(1, 1))\n",
       "  (dropout1): Dropout(p=0.25, inplace=False)\n",
       "  (dropout2): Dropout(p=0.5, inplace=False)\n",
       "  (fc1): Linear(in_features=9216, out_features=128, bias=True)\n",
       "  (fc2): Linear(in_features=128, out_features=10, bias=True)\n",
       ")"
      ]
     },
     "execution_count": 90,
     "metadata": {},
     "output_type": "execute_result"
    }
   ],
   "source": [
    "model"
   ]
  },
  {
   "cell_type": "markdown",
   "id": "468207ac",
   "metadata": {},
   "source": [
    "Перепишем сеть в torch.nn"
   ]
  },
  {
   "cell_type": "code",
   "execution_count": 91,
   "id": "7c97a105",
   "metadata": {},
   "outputs": [],
   "source": [
    "Net2= nn.Sequential()\n",
    "Net2.add_module('conv1', nn.Conv2d(1, 32, kernel_size=(3, 3), stride=(1, 1)))\n",
    "Net2.add_module('relu1', nn.ReLU())\n",
    "Net2.add_module('conv2', nn.Conv2d(32, 64, kernel_size=(3, 3), stride=(1, 1)))\n",
    "Net2.add_module('relu2', nn.ReLU())\n",
    "Net2.add_module('Maxpool1', nn.MaxPool2d(2))\n",
    "Net2.add_module('dropout1', nn.Dropout(p=0.25, inplace=False))\n",
    "Net2.add_module('flatten', nn.Flatten())\n",
    "Net2.add_module('relu3', nn.ReLU())\n",
    "Net2.add_module('fc1', nn.Linear(in_features=9216, out_features=128, bias=True))\n",
    "Net2.add_module('fc2', nn.Linear(in_features=128, out_features=10, bias=True))"
   ]
  },
  {
   "cell_type": "markdown",
   "id": "e8b877ad",
   "metadata": {},
   "source": [
    "Проверям как работает"
   ]
  },
  {
   "cell_type": "code",
   "execution_count": 92,
   "id": "93525935",
   "metadata": {},
   "outputs": [],
   "source": [
    "for data, target in train_loader:\n",
    "    data = data.to(device)\n",
    "    break"
   ]
  },
  {
   "cell_type": "code",
   "execution_count": 93,
   "id": "690d9c05",
   "metadata": {},
   "outputs": [
    {
     "data": {
      "text/plain": [
       "torch.Size([64, 1, 28, 28])"
      ]
     },
     "execution_count": 93,
     "metadata": {},
     "output_type": "execute_result"
    }
   ],
   "source": [
    "data.shape"
   ]
  },
  {
   "cell_type": "code",
   "execution_count": 94,
   "id": "280087e7",
   "metadata": {},
   "outputs": [
    {
     "data": {
      "text/plain": [
       "Sequential(\n",
       "  (conv1): Conv2d(1, 32, kernel_size=(3, 3), stride=(1, 1))\n",
       "  (relu1): ReLU()\n",
       "  (conv2): Conv2d(32, 64, kernel_size=(3, 3), stride=(1, 1))\n",
       "  (relu2): ReLU()\n",
       "  (Maxpool1): MaxPool2d(kernel_size=2, stride=2, padding=0, dilation=1, ceil_mode=False)\n",
       "  (dropout1): Dropout(p=0.25, inplace=False)\n",
       "  (flatten): Flatten(start_dim=1, end_dim=-1)\n",
       "  (relu3): ReLU()\n",
       "  (fc1): Linear(in_features=9216, out_features=128, bias=True)\n",
       "  (fc2): Linear(in_features=128, out_features=10, bias=True)\n",
       ")"
      ]
     },
     "execution_count": 94,
     "metadata": {},
     "output_type": "execute_result"
    }
   ],
   "source": [
    "Net2.to(device).eval()"
   ]
  },
  {
   "cell_type": "code",
   "execution_count": 95,
   "id": "1e6dabaa",
   "metadata": {},
   "outputs": [
    {
     "data": {
      "text/plain": [
       "torch.Size([64, 10])"
      ]
     },
     "execution_count": 95,
     "metadata": {},
     "output_type": "execute_result"
    }
   ],
   "source": [
    "Net2(data).shape"
   ]
  },
  {
   "cell_type": "code",
   "execution_count": 96,
   "id": "8aac83a0",
   "metadata": {},
   "outputs": [
    {
     "data": {
      "text/plain": [
       "torch.Size([64, 10])"
      ]
     },
     "execution_count": 96,
     "metadata": {},
     "output_type": "execute_result"
    }
   ],
   "source": [
    "Net2(data).shape"
   ]
  },
  {
   "cell_type": "code",
   "execution_count": 97,
   "id": "ba766a14",
   "metadata": {},
   "outputs": [],
   "source": [
    "model = Net().to(device)"
   ]
  },
  {
   "cell_type": "code",
   "execution_count": 98,
   "id": "f85ecb6b",
   "metadata": {},
   "outputs": [
    {
     "data": {
      "text/plain": [
       "1.0"
      ]
     },
     "execution_count": 98,
     "metadata": {},
     "output_type": "execute_result"
    }
   ],
   "source": [
    "args.lr"
   ]
  },
  {
   "cell_type": "code",
   "execution_count": 99,
   "id": "d0418760",
   "metadata": {},
   "outputs": [],
   "source": [
    "optimizer = optim.Adadelta(model.parameters(), lr=args.lr)\n",
    "# optimizer = optim.Adam(model.parameters(), lr=args.lr)"
   ]
  },
  {
   "cell_type": "code",
   "execution_count": 100,
   "id": "3319c6c6",
   "metadata": {},
   "outputs": [],
   "source": [
    "scheduler = StepLR(optimizer, step_size=1, gamma=args.gamma)"
   ]
  },
  {
   "cell_type": "code",
   "execution_count": 106,
   "id": "e319f631",
   "metadata": {},
   "outputs": [
    {
     "data": {
      "text/plain": [
       "3"
      ]
     },
     "execution_count": 106,
     "metadata": {},
     "output_type": "execute_result"
    }
   ],
   "source": [
    "args.epochs"
   ]
  },
  {
   "cell_type": "code",
   "execution_count": 107,
   "id": "6ec3a542",
   "metadata": {
    "scrolled": false
   },
   "outputs": [
    {
     "name": "stdout",
     "output_type": "stream",
     "text": [
      "Train Epoch: 1 [0/60000 (0%)]\tLoss: 2.319543\n",
      "Train Epoch: 1 [640/60000 (1%)]\tLoss: 1.352356\n",
      "Train Epoch: 1 [1280/60000 (2%)]\tLoss: 0.894894\n",
      "Train Epoch: 1 [1920/60000 (3%)]\tLoss: 0.470140\n",
      "Train Epoch: 1 [2560/60000 (4%)]\tLoss: 0.565290\n",
      "Train Epoch: 1 [3200/60000 (5%)]\tLoss: 0.330813\n",
      "Train Epoch: 1 [3840/60000 (6%)]\tLoss: 0.197351\n",
      "Train Epoch: 1 [4480/60000 (7%)]\tLoss: 0.358960\n",
      "Train Epoch: 1 [5120/60000 (9%)]\tLoss: 0.509870\n",
      "Train Epoch: 1 [5760/60000 (10%)]\tLoss: 0.237593\n",
      "Train Epoch: 1 [6400/60000 (11%)]\tLoss: 0.263405\n",
      "Train Epoch: 1 [7040/60000 (12%)]\tLoss: 0.240222\n",
      "Train Epoch: 1 [7680/60000 (13%)]\tLoss: 0.164584\n",
      "Train Epoch: 1 [8320/60000 (14%)]\tLoss: 0.230462\n",
      "Train Epoch: 1 [8960/60000 (15%)]\tLoss: 0.261193\n",
      "Train Epoch: 1 [9600/60000 (16%)]\tLoss: 0.132490\n",
      "Train Epoch: 1 [10240/60000 (17%)]\tLoss: 0.260767\n",
      "Train Epoch: 1 [10880/60000 (18%)]\tLoss: 0.181649\n",
      "Train Epoch: 1 [11520/60000 (19%)]\tLoss: 0.414668\n",
      "Train Epoch: 1 [12160/60000 (20%)]\tLoss: 0.141222\n",
      "Train Epoch: 1 [12800/60000 (21%)]\tLoss: 0.122738\n",
      "Train Epoch: 1 [13440/60000 (22%)]\tLoss: 0.122912\n",
      "Train Epoch: 1 [14080/60000 (23%)]\tLoss: 0.286457\n",
      "Train Epoch: 1 [14720/60000 (25%)]\tLoss: 0.333406\n",
      "Train Epoch: 1 [15360/60000 (26%)]\tLoss: 0.114316\n",
      "Train Epoch: 1 [16000/60000 (27%)]\tLoss: 0.232278\n",
      "Train Epoch: 1 [16640/60000 (28%)]\tLoss: 0.281888\n",
      "Train Epoch: 1 [17280/60000 (29%)]\tLoss: 0.072556\n",
      "Train Epoch: 1 [17920/60000 (30%)]\tLoss: 0.199160\n",
      "Train Epoch: 1 [18560/60000 (31%)]\tLoss: 0.235071\n",
      "Train Epoch: 1 [19200/60000 (32%)]\tLoss: 0.382035\n",
      "Train Epoch: 1 [19840/60000 (33%)]\tLoss: 0.134332\n",
      "Train Epoch: 1 [20480/60000 (34%)]\tLoss: 0.051785\n",
      "Train Epoch: 1 [21120/60000 (35%)]\tLoss: 0.176505\n",
      "Train Epoch: 1 [21760/60000 (36%)]\tLoss: 0.031002\n",
      "Train Epoch: 1 [22400/60000 (37%)]\tLoss: 0.051917\n",
      "Train Epoch: 1 [23040/60000 (38%)]\tLoss: 0.242549\n",
      "Train Epoch: 1 [23680/60000 (39%)]\tLoss: 0.213333\n",
      "Train Epoch: 1 [24320/60000 (41%)]\tLoss: 0.018144\n",
      "Train Epoch: 1 [24960/60000 (42%)]\tLoss: 0.063814\n",
      "Train Epoch: 1 [25600/60000 (43%)]\tLoss: 0.055484\n",
      "Train Epoch: 1 [26240/60000 (44%)]\tLoss: 0.073755\n",
      "Train Epoch: 1 [26880/60000 (45%)]\tLoss: 0.345448\n",
      "Train Epoch: 1 [27520/60000 (46%)]\tLoss: 0.230080\n",
      "Train Epoch: 1 [28160/60000 (47%)]\tLoss: 0.097810\n",
      "Train Epoch: 1 [28800/60000 (48%)]\tLoss: 0.215940\n",
      "Train Epoch: 1 [29440/60000 (49%)]\tLoss: 0.086970\n",
      "Train Epoch: 1 [30080/60000 (50%)]\tLoss: 0.113291\n",
      "Train Epoch: 1 [30720/60000 (51%)]\tLoss: 0.050153\n",
      "Train Epoch: 1 [31360/60000 (52%)]\tLoss: 0.075599\n",
      "Train Epoch: 1 [32000/60000 (53%)]\tLoss: 0.150426\n",
      "Train Epoch: 1 [32640/60000 (54%)]\tLoss: 0.205298\n",
      "Train Epoch: 1 [33280/60000 (55%)]\tLoss: 0.123746\n",
      "Train Epoch: 1 [33920/60000 (57%)]\tLoss: 0.050336\n",
      "Train Epoch: 1 [34560/60000 (58%)]\tLoss: 0.116078\n",
      "Train Epoch: 1 [35200/60000 (59%)]\tLoss: 0.271388\n",
      "Train Epoch: 1 [35840/60000 (60%)]\tLoss: 0.177264\n",
      "Train Epoch: 1 [36480/60000 (61%)]\tLoss: 0.021459\n",
      "Train Epoch: 1 [37120/60000 (62%)]\tLoss: 0.182886\n",
      "Train Epoch: 1 [37760/60000 (63%)]\tLoss: 0.195634\n",
      "Train Epoch: 1 [38400/60000 (64%)]\tLoss: 0.140444\n",
      "Train Epoch: 1 [39040/60000 (65%)]\tLoss: 0.018859\n",
      "Train Epoch: 1 [39680/60000 (66%)]\tLoss: 0.029652\n",
      "Train Epoch: 1 [40320/60000 (67%)]\tLoss: 0.058569\n",
      "Train Epoch: 1 [40960/60000 (68%)]\tLoss: 0.118590\n",
      "Train Epoch: 1 [41600/60000 (69%)]\tLoss: 0.155059\n",
      "Train Epoch: 1 [42240/60000 (70%)]\tLoss: 0.034310\n",
      "Train Epoch: 1 [42880/60000 (71%)]\tLoss: 0.121029\n",
      "Train Epoch: 1 [43520/60000 (72%)]\tLoss: 0.211933\n",
      "Train Epoch: 1 [44160/60000 (74%)]\tLoss: 0.012940\n",
      "Train Epoch: 1 [44800/60000 (75%)]\tLoss: 0.168012\n",
      "Train Epoch: 1 [45440/60000 (76%)]\tLoss: 0.174733\n",
      "Train Epoch: 1 [46080/60000 (77%)]\tLoss: 0.136780\n",
      "Train Epoch: 1 [46720/60000 (78%)]\tLoss: 0.240253\n",
      "Train Epoch: 1 [47360/60000 (79%)]\tLoss: 0.039792\n",
      "Train Epoch: 1 [48000/60000 (80%)]\tLoss: 0.120462\n",
      "Train Epoch: 1 [48640/60000 (81%)]\tLoss: 0.049322\n",
      "Train Epoch: 1 [49280/60000 (82%)]\tLoss: 0.109814\n",
      "Train Epoch: 1 [49920/60000 (83%)]\tLoss: 0.049703\n",
      "Train Epoch: 1 [50560/60000 (84%)]\tLoss: 0.135334\n",
      "Train Epoch: 1 [51200/60000 (85%)]\tLoss: 0.210319\n",
      "Train Epoch: 1 [51840/60000 (86%)]\tLoss: 0.017471\n",
      "Train Epoch: 1 [52480/60000 (87%)]\tLoss: 0.052370\n",
      "Train Epoch: 1 [53120/60000 (88%)]\tLoss: 0.157150\n",
      "Train Epoch: 1 [53760/60000 (90%)]\tLoss: 0.097762\n",
      "Train Epoch: 1 [54400/60000 (91%)]\tLoss: 0.027158\n",
      "Train Epoch: 1 [55040/60000 (92%)]\tLoss: 0.019372\n",
      "Train Epoch: 1 [55680/60000 (93%)]\tLoss: 0.174435\n",
      "Train Epoch: 1 [56320/60000 (94%)]\tLoss: 0.035886\n",
      "Train Epoch: 1 [56960/60000 (95%)]\tLoss: 0.101368\n",
      "Train Epoch: 1 [57600/60000 (96%)]\tLoss: 0.103947\n",
      "Train Epoch: 1 [58240/60000 (97%)]\tLoss: 0.092666\n",
      "Train Epoch: 1 [58880/60000 (98%)]\tLoss: 0.003568\n",
      "Train Epoch: 1 [59520/60000 (99%)]\tLoss: 0.012016\n",
      "\n",
      "Test set: Average loss: 0.0502, Accuracy: 9828/10000 (98%)\n",
      "\n",
      "Train Epoch: 2 [0/60000 (0%)]\tLoss: 0.044576\n",
      "Train Epoch: 2 [640/60000 (1%)]\tLoss: 0.062835\n",
      "Train Epoch: 2 [1280/60000 (2%)]\tLoss: 0.035988\n",
      "Train Epoch: 2 [1920/60000 (3%)]\tLoss: 0.149622\n",
      "Train Epoch: 2 [2560/60000 (4%)]\tLoss: 0.052340\n",
      "Train Epoch: 2 [3200/60000 (5%)]\tLoss: 0.016695\n",
      "Train Epoch: 2 [3840/60000 (6%)]\tLoss: 0.020682\n",
      "Train Epoch: 2 [4480/60000 (7%)]\tLoss: 0.119659\n",
      "Train Epoch: 2 [5120/60000 (9%)]\tLoss: 0.190074\n",
      "Train Epoch: 2 [5760/60000 (10%)]\tLoss: 0.067295\n",
      "Train Epoch: 2 [6400/60000 (11%)]\tLoss: 0.209121\n",
      "Train Epoch: 2 [7040/60000 (12%)]\tLoss: 0.188999\n",
      "Train Epoch: 2 [7680/60000 (13%)]\tLoss: 0.059599\n",
      "Train Epoch: 2 [8320/60000 (14%)]\tLoss: 0.025861\n",
      "Train Epoch: 2 [8960/60000 (15%)]\tLoss: 0.051578\n",
      "Train Epoch: 2 [9600/60000 (16%)]\tLoss: 0.142926\n",
      "Train Epoch: 2 [10240/60000 (17%)]\tLoss: 0.145764\n",
      "Train Epoch: 2 [10880/60000 (18%)]\tLoss: 0.013334\n",
      "Train Epoch: 2 [11520/60000 (19%)]\tLoss: 0.069057\n",
      "Train Epoch: 2 [12160/60000 (20%)]\tLoss: 0.068632\n",
      "Train Epoch: 2 [12800/60000 (21%)]\tLoss: 0.016598\n",
      "Train Epoch: 2 [13440/60000 (22%)]\tLoss: 0.005026\n",
      "Train Epoch: 2 [14080/60000 (23%)]\tLoss: 0.091501\n",
      "Train Epoch: 2 [14720/60000 (25%)]\tLoss: 0.111293\n",
      "Train Epoch: 2 [15360/60000 (26%)]\tLoss: 0.056768\n",
      "Train Epoch: 2 [16000/60000 (27%)]\tLoss: 0.045015\n",
      "Train Epoch: 2 [16640/60000 (28%)]\tLoss: 0.137197\n",
      "Train Epoch: 2 [17280/60000 (29%)]\tLoss: 0.002133\n",
      "Train Epoch: 2 [17920/60000 (30%)]\tLoss: 0.047912\n",
      "Train Epoch: 2 [18560/60000 (31%)]\tLoss: 0.191167\n",
      "Train Epoch: 2 [19200/60000 (32%)]\tLoss: 0.163928\n",
      "Train Epoch: 2 [19840/60000 (33%)]\tLoss: 0.102200\n",
      "Train Epoch: 2 [20480/60000 (34%)]\tLoss: 0.022560\n",
      "Train Epoch: 2 [21120/60000 (35%)]\tLoss: 0.112781\n",
      "Train Epoch: 2 [21760/60000 (36%)]\tLoss: 0.006500\n",
      "Train Epoch: 2 [22400/60000 (37%)]\tLoss: 0.007838\n",
      "Train Epoch: 2 [23040/60000 (38%)]\tLoss: 0.114338\n",
      "Train Epoch: 2 [23680/60000 (39%)]\tLoss: 0.121558\n",
      "Train Epoch: 2 [24320/60000 (41%)]\tLoss: 0.000815\n",
      "Train Epoch: 2 [24960/60000 (42%)]\tLoss: 0.019811\n",
      "Train Epoch: 2 [25600/60000 (43%)]\tLoss: 0.045177\n",
      "Train Epoch: 2 [26240/60000 (44%)]\tLoss: 0.024614\n",
      "Train Epoch: 2 [26880/60000 (45%)]\tLoss: 0.053571\n",
      "Train Epoch: 2 [27520/60000 (46%)]\tLoss: 0.042801\n",
      "Train Epoch: 2 [28160/60000 (47%)]\tLoss: 0.119047\n",
      "Train Epoch: 2 [28800/60000 (48%)]\tLoss: 0.030704\n",
      "Train Epoch: 2 [29440/60000 (49%)]\tLoss: 0.009286\n",
      "Train Epoch: 2 [30080/60000 (50%)]\tLoss: 0.010847\n",
      "Train Epoch: 2 [30720/60000 (51%)]\tLoss: 0.065224\n",
      "Train Epoch: 2 [31360/60000 (52%)]\tLoss: 0.086771\n",
      "Train Epoch: 2 [32000/60000 (53%)]\tLoss: 0.101732\n",
      "Train Epoch: 2 [32640/60000 (54%)]\tLoss: 0.057192\n",
      "Train Epoch: 2 [33280/60000 (55%)]\tLoss: 0.088537\n",
      "Train Epoch: 2 [33920/60000 (57%)]\tLoss: 0.005475\n",
      "Train Epoch: 2 [34560/60000 (58%)]\tLoss: 0.057352\n",
      "Train Epoch: 2 [35200/60000 (59%)]\tLoss: 0.052879\n",
      "Train Epoch: 2 [35840/60000 (60%)]\tLoss: 0.153788\n",
      "Train Epoch: 2 [36480/60000 (61%)]\tLoss: 0.007045\n",
      "Train Epoch: 2 [37120/60000 (62%)]\tLoss: 0.032724\n",
      "Train Epoch: 2 [37760/60000 (63%)]\tLoss: 0.055127\n",
      "Train Epoch: 2 [38400/60000 (64%)]\tLoss: 0.072994\n",
      "Train Epoch: 2 [39040/60000 (65%)]\tLoss: 0.006057\n",
      "Train Epoch: 2 [39680/60000 (66%)]\tLoss: 0.152293\n",
      "Train Epoch: 2 [40320/60000 (67%)]\tLoss: 0.035189\n",
      "Train Epoch: 2 [40960/60000 (68%)]\tLoss: 0.090891\n",
      "Train Epoch: 2 [41600/60000 (69%)]\tLoss: 0.044100\n",
      "Train Epoch: 2 [42240/60000 (70%)]\tLoss: 0.016177\n",
      "Train Epoch: 2 [42880/60000 (71%)]\tLoss: 0.045399\n",
      "Train Epoch: 2 [43520/60000 (72%)]\tLoss: 0.130732\n",
      "Train Epoch: 2 [44160/60000 (74%)]\tLoss: 0.043472\n"
     ]
    },
    {
     "name": "stdout",
     "output_type": "stream",
     "text": [
      "Train Epoch: 2 [44800/60000 (75%)]\tLoss: 0.109540\n",
      "Train Epoch: 2 [45440/60000 (76%)]\tLoss: 0.067599\n",
      "Train Epoch: 2 [46080/60000 (77%)]\tLoss: 0.141550\n",
      "Train Epoch: 2 [46720/60000 (78%)]\tLoss: 0.127350\n",
      "Train Epoch: 2 [47360/60000 (79%)]\tLoss: 0.032465\n",
      "Train Epoch: 2 [48000/60000 (80%)]\tLoss: 0.056841\n",
      "Train Epoch: 2 [48640/60000 (81%)]\tLoss: 0.011820\n",
      "Train Epoch: 2 [49280/60000 (82%)]\tLoss: 0.003726\n",
      "Train Epoch: 2 [49920/60000 (83%)]\tLoss: 0.005570\n",
      "Train Epoch: 2 [50560/60000 (84%)]\tLoss: 0.060104\n",
      "Train Epoch: 2 [51200/60000 (85%)]\tLoss: 0.142363\n",
      "Train Epoch: 2 [51840/60000 (86%)]\tLoss: 0.031248\n",
      "Train Epoch: 2 [52480/60000 (87%)]\tLoss: 0.002501\n",
      "Train Epoch: 2 [53120/60000 (88%)]\tLoss: 0.046273\n",
      "Train Epoch: 2 [53760/60000 (90%)]\tLoss: 0.094270\n",
      "Train Epoch: 2 [54400/60000 (91%)]\tLoss: 0.024492\n",
      "Train Epoch: 2 [55040/60000 (92%)]\tLoss: 0.008770\n",
      "Train Epoch: 2 [55680/60000 (93%)]\tLoss: 0.026867\n",
      "Train Epoch: 2 [56320/60000 (94%)]\tLoss: 0.014689\n",
      "Train Epoch: 2 [56960/60000 (95%)]\tLoss: 0.012625\n",
      "Train Epoch: 2 [57600/60000 (96%)]\tLoss: 0.098074\n",
      "Train Epoch: 2 [58240/60000 (97%)]\tLoss: 0.010705\n",
      "Train Epoch: 2 [58880/60000 (98%)]\tLoss: 0.011551\n",
      "Train Epoch: 2 [59520/60000 (99%)]\tLoss: 0.015054\n",
      "\n",
      "Test set: Average loss: 0.0361, Accuracy: 9877/10000 (99%)\n",
      "\n",
      "Train Epoch: 3 [0/60000 (0%)]\tLoss: 0.099241\n",
      "Train Epoch: 3 [640/60000 (1%)]\tLoss: 0.009528\n",
      "Train Epoch: 3 [1280/60000 (2%)]\tLoss: 0.017542\n",
      "Train Epoch: 3 [1920/60000 (3%)]\tLoss: 0.095338\n",
      "Train Epoch: 3 [2560/60000 (4%)]\tLoss: 0.022267\n",
      "Train Epoch: 3 [3200/60000 (5%)]\tLoss: 0.070363\n",
      "Train Epoch: 3 [3840/60000 (6%)]\tLoss: 0.006277\n",
      "Train Epoch: 3 [4480/60000 (7%)]\tLoss: 0.013156\n",
      "Train Epoch: 3 [5120/60000 (9%)]\tLoss: 0.042956\n",
      "Train Epoch: 3 [5760/60000 (10%)]\tLoss: 0.046445\n",
      "Train Epoch: 3 [6400/60000 (11%)]\tLoss: 0.331700\n",
      "Train Epoch: 3 [7040/60000 (12%)]\tLoss: 0.095792\n",
      "Train Epoch: 3 [7680/60000 (13%)]\tLoss: 0.042116\n",
      "Train Epoch: 3 [8320/60000 (14%)]\tLoss: 0.007040\n",
      "Train Epoch: 3 [8960/60000 (15%)]\tLoss: 0.048647\n",
      "Train Epoch: 3 [9600/60000 (16%)]\tLoss: 0.031636\n",
      "Train Epoch: 3 [10240/60000 (17%)]\tLoss: 0.230658\n",
      "Train Epoch: 3 [10880/60000 (18%)]\tLoss: 0.008278\n",
      "Train Epoch: 3 [11520/60000 (19%)]\tLoss: 0.028829\n",
      "Train Epoch: 3 [12160/60000 (20%)]\tLoss: 0.125126\n",
      "Train Epoch: 3 [12800/60000 (21%)]\tLoss: 0.060427\n",
      "Train Epoch: 3 [13440/60000 (22%)]\tLoss: 0.004411\n",
      "Train Epoch: 3 [14080/60000 (23%)]\tLoss: 0.006774\n",
      "Train Epoch: 3 [14720/60000 (25%)]\tLoss: 0.061783\n",
      "Train Epoch: 3 [15360/60000 (26%)]\tLoss: 0.013872\n",
      "Train Epoch: 3 [16000/60000 (27%)]\tLoss: 0.084124\n",
      "Train Epoch: 3 [16640/60000 (28%)]\tLoss: 0.108118\n",
      "Train Epoch: 3 [17280/60000 (29%)]\tLoss: 0.003039\n",
      "Train Epoch: 3 [17920/60000 (30%)]\tLoss: 0.035422\n",
      "Train Epoch: 3 [18560/60000 (31%)]\tLoss: 0.108154\n",
      "Train Epoch: 3 [19200/60000 (32%)]\tLoss: 0.067292\n",
      "Train Epoch: 3 [19840/60000 (33%)]\tLoss: 0.048029\n",
      "Train Epoch: 3 [20480/60000 (34%)]\tLoss: 0.011882\n",
      "Train Epoch: 3 [21120/60000 (35%)]\tLoss: 0.121907\n",
      "Train Epoch: 3 [21760/60000 (36%)]\tLoss: 0.104552\n",
      "Train Epoch: 3 [22400/60000 (37%)]\tLoss: 0.005276\n",
      "Train Epoch: 3 [23040/60000 (38%)]\tLoss: 0.042499\n",
      "Train Epoch: 3 [23680/60000 (39%)]\tLoss: 0.066403\n",
      "Train Epoch: 3 [24320/60000 (41%)]\tLoss: 0.000860\n",
      "Train Epoch: 3 [24960/60000 (42%)]\tLoss: 0.007989\n",
      "Train Epoch: 3 [25600/60000 (43%)]\tLoss: 0.014582\n",
      "Train Epoch: 3 [26240/60000 (44%)]\tLoss: 0.019230\n",
      "Train Epoch: 3 [26880/60000 (45%)]\tLoss: 0.160118\n",
      "Train Epoch: 3 [27520/60000 (46%)]\tLoss: 0.049280\n",
      "Train Epoch: 3 [28160/60000 (47%)]\tLoss: 0.018174\n",
      "Train Epoch: 3 [28800/60000 (48%)]\tLoss: 0.041787\n",
      "Train Epoch: 3 [29440/60000 (49%)]\tLoss: 0.009620\n",
      "Train Epoch: 3 [30080/60000 (50%)]\tLoss: 0.048645\n",
      "Train Epoch: 3 [30720/60000 (51%)]\tLoss: 0.033540\n",
      "Train Epoch: 3 [31360/60000 (52%)]\tLoss: 0.011667\n",
      "Train Epoch: 3 [32000/60000 (53%)]\tLoss: 0.034894\n",
      "Train Epoch: 3 [32640/60000 (54%)]\tLoss: 0.074088\n",
      "Train Epoch: 3 [33280/60000 (55%)]\tLoss: 0.079518\n",
      "Train Epoch: 3 [33920/60000 (57%)]\tLoss: 0.005605\n",
      "Train Epoch: 3 [34560/60000 (58%)]\tLoss: 0.033732\n",
      "Train Epoch: 3 [35200/60000 (59%)]\tLoss: 0.227017\n",
      "Train Epoch: 3 [35840/60000 (60%)]\tLoss: 0.219899\n",
      "Train Epoch: 3 [36480/60000 (61%)]\tLoss: 0.019306\n",
      "Train Epoch: 3 [37120/60000 (62%)]\tLoss: 0.042399\n",
      "Train Epoch: 3 [37760/60000 (63%)]\tLoss: 0.059756\n",
      "Train Epoch: 3 [38400/60000 (64%)]\tLoss: 0.080696\n",
      "Train Epoch: 3 [39040/60000 (65%)]\tLoss: 0.008030\n",
      "Train Epoch: 3 [39680/60000 (66%)]\tLoss: 0.015155\n",
      "Train Epoch: 3 [40320/60000 (67%)]\tLoss: 0.064879\n",
      "Train Epoch: 3 [40960/60000 (68%)]\tLoss: 0.054247\n",
      "Train Epoch: 3 [41600/60000 (69%)]\tLoss: 0.034659\n",
      "Train Epoch: 3 [42240/60000 (70%)]\tLoss: 0.016498\n",
      "Train Epoch: 3 [42880/60000 (71%)]\tLoss: 0.032617\n",
      "Train Epoch: 3 [43520/60000 (72%)]\tLoss: 0.087180\n",
      "Train Epoch: 3 [44160/60000 (74%)]\tLoss: 0.037286\n",
      "Train Epoch: 3 [44800/60000 (75%)]\tLoss: 0.046112\n",
      "Train Epoch: 3 [45440/60000 (76%)]\tLoss: 0.162213\n",
      "Train Epoch: 3 [46080/60000 (77%)]\tLoss: 0.074001\n",
      "Train Epoch: 3 [46720/60000 (78%)]\tLoss: 0.108889\n",
      "Train Epoch: 3 [47360/60000 (79%)]\tLoss: 0.034415\n",
      "Train Epoch: 3 [48000/60000 (80%)]\tLoss: 0.015997\n",
      "Train Epoch: 3 [48640/60000 (81%)]\tLoss: 0.015863\n",
      "Train Epoch: 3 [49280/60000 (82%)]\tLoss: 0.075570\n",
      "Train Epoch: 3 [49920/60000 (83%)]\tLoss: 0.019520\n",
      "Train Epoch: 3 [50560/60000 (84%)]\tLoss: 0.062340\n",
      "Train Epoch: 3 [51200/60000 (85%)]\tLoss: 0.200511\n",
      "Train Epoch: 3 [51840/60000 (86%)]\tLoss: 0.004199\n",
      "Train Epoch: 3 [52480/60000 (87%)]\tLoss: 0.034480\n",
      "Train Epoch: 3 [53120/60000 (88%)]\tLoss: 0.050571\n",
      "Train Epoch: 3 [53760/60000 (90%)]\tLoss: 0.070920\n",
      "Train Epoch: 3 [54400/60000 (91%)]\tLoss: 0.038383\n",
      "Train Epoch: 3 [55040/60000 (92%)]\tLoss: 0.006509\n",
      "Train Epoch: 3 [55680/60000 (93%)]\tLoss: 0.033459\n",
      "Train Epoch: 3 [56320/60000 (94%)]\tLoss: 0.032480\n",
      "Train Epoch: 3 [56960/60000 (95%)]\tLoss: 0.017025\n",
      "Train Epoch: 3 [57600/60000 (96%)]\tLoss: 0.011102\n",
      "Train Epoch: 3 [58240/60000 (97%)]\tLoss: 0.003110\n",
      "Train Epoch: 3 [58880/60000 (98%)]\tLoss: 0.002235\n",
      "Train Epoch: 3 [59520/60000 (99%)]\tLoss: 0.000350\n",
      "\n",
      "Test set: Average loss: 0.0308, Accuracy: 9899/10000 (99%)\n",
      "\n"
     ]
    }
   ],
   "source": [
    "for epoch in range(1, args.epochs + 1):\n",
    "    train(args, model, device, train_loader, optimizer, epoch)\n",
    "    test(model, device, test_loader)\n",
    "    scheduler.step()"
   ]
  },
  {
   "cell_type": "code",
   "execution_count": 108,
   "id": "8ea3b1f8",
   "metadata": {},
   "outputs": [],
   "source": [
    "torch.save(model.state_dict(), \"mnist_cnn.pt\")"
   ]
  }
 ],
 "metadata": {
  "kernelspec": {
   "display_name": "Python 3 (ipykernel)",
   "language": "python",
   "name": "python3"
  },
  "language_info": {
   "codemirror_mode": {
    "name": "ipython",
    "version": 3
   },
   "file_extension": ".py",
   "mimetype": "text/x-python",
   "name": "python",
   "nbconvert_exporter": "python",
   "pygments_lexer": "ipython3",
   "version": "3.9.7"
  }
 },
 "nbformat": 4,
 "nbformat_minor": 5
}
